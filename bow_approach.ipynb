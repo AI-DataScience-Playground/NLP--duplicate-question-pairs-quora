{
 "cells": [
  {
   "cell_type": "code",
   "execution_count": 59,
   "id": "6872a953-a85f-4566-a7c0-48053b7ac638",
   "metadata": {},
   "outputs": [],
   "source": [
    "import numpy as np\n",
    "import pandas as pd\n",
    "import matplotlib.pyplot as plt\n",
    "import seaborn as sns\n",
    "\n",
    "from sklearn.feature_extraction.text import CountVectorizer\n",
    "from sklearn.model_selection import train_test_split\n",
    "from sklearn.ensemble import RandomForestClassifier\n",
    "from sklearn.metrics import accuracy_score"
   ]
  },
  {
   "cell_type": "code",
   "execution_count": 22,
   "id": "d7505018-6ed6-4980-8475-fae041a42975",
   "metadata": {},
   "outputs": [
    {
     "data": {
      "text/plain": [
       "(404290, 6)"
      ]
     },
     "execution_count": 22,
     "metadata": {},
     "output_type": "execute_result"
    }
   ],
   "source": [
    "df = pd.read_csv('train.csv')\n",
    "df.shape"
   ]
  },
  {
   "cell_type": "code",
   "execution_count": 23,
   "id": "227ee66f-43b2-4406-9e2e-24157b59063c",
   "metadata": {},
   "outputs": [
    {
     "data": {
      "text/html": [
       "<div>\n",
       "<style scoped>\n",
       "    .dataframe tbody tr th:only-of-type {\n",
       "        vertical-align: middle;\n",
       "    }\n",
       "\n",
       "    .dataframe tbody tr th {\n",
       "        vertical-align: top;\n",
       "    }\n",
       "\n",
       "    .dataframe thead th {\n",
       "        text-align: right;\n",
       "    }\n",
       "</style>\n",
       "<table border=\"1\" class=\"dataframe\">\n",
       "  <thead>\n",
       "    <tr style=\"text-align: right;\">\n",
       "      <th></th>\n",
       "      <th>id</th>\n",
       "      <th>qid1</th>\n",
       "      <th>qid2</th>\n",
       "      <th>question1</th>\n",
       "      <th>question2</th>\n",
       "      <th>is_duplicate</th>\n",
       "    </tr>\n",
       "  </thead>\n",
       "  <tbody>\n",
       "    <tr>\n",
       "      <th>0</th>\n",
       "      <td>0</td>\n",
       "      <td>1</td>\n",
       "      <td>2</td>\n",
       "      <td>What is the step by step guide to invest in sh...</td>\n",
       "      <td>What is the step by step guide to invest in sh...</td>\n",
       "      <td>0</td>\n",
       "    </tr>\n",
       "    <tr>\n",
       "      <th>1</th>\n",
       "      <td>1</td>\n",
       "      <td>3</td>\n",
       "      <td>4</td>\n",
       "      <td>What is the story of Kohinoor (Koh-i-Noor) Dia...</td>\n",
       "      <td>What would happen if the Indian government sto...</td>\n",
       "      <td>0</td>\n",
       "    </tr>\n",
       "    <tr>\n",
       "      <th>2</th>\n",
       "      <td>2</td>\n",
       "      <td>5</td>\n",
       "      <td>6</td>\n",
       "      <td>How can I increase the speed of my internet co...</td>\n",
       "      <td>How can Internet speed be increased by hacking...</td>\n",
       "      <td>0</td>\n",
       "    </tr>\n",
       "    <tr>\n",
       "      <th>3</th>\n",
       "      <td>3</td>\n",
       "      <td>7</td>\n",
       "      <td>8</td>\n",
       "      <td>Why am I mentally very lonely? How can I solve...</td>\n",
       "      <td>Find the remainder when [math]23^{24}[/math] i...</td>\n",
       "      <td>0</td>\n",
       "    </tr>\n",
       "    <tr>\n",
       "      <th>4</th>\n",
       "      <td>4</td>\n",
       "      <td>9</td>\n",
       "      <td>10</td>\n",
       "      <td>Which one dissolve in water quikly sugar, salt...</td>\n",
       "      <td>Which fish would survive in salt water?</td>\n",
       "      <td>0</td>\n",
       "    </tr>\n",
       "  </tbody>\n",
       "</table>\n",
       "</div>"
      ],
      "text/plain": [
       "   id  qid1  qid2                                          question1  \\\n",
       "0   0     1     2  What is the step by step guide to invest in sh...   \n",
       "1   1     3     4  What is the story of Kohinoor (Koh-i-Noor) Dia...   \n",
       "2   2     5     6  How can I increase the speed of my internet co...   \n",
       "3   3     7     8  Why am I mentally very lonely? How can I solve...   \n",
       "4   4     9    10  Which one dissolve in water quikly sugar, salt...   \n",
       "\n",
       "                                           question2  is_duplicate  \n",
       "0  What is the step by step guide to invest in sh...             0  \n",
       "1  What would happen if the Indian government sto...             0  \n",
       "2  How can Internet speed be increased by hacking...             0  \n",
       "3  Find the remainder when [math]23^{24}[/math] i...             0  \n",
       "4            Which fish would survive in salt water?             0  "
      ]
     },
     "execution_count": 23,
     "metadata": {},
     "output_type": "execute_result"
    }
   ],
   "source": [
    "df.head(5)"
   ]
  },
  {
   "cell_type": "code",
   "execution_count": 45,
   "id": "8402bff6-3bb8-4816-b08d-5b7913d998e4",
   "metadata": {},
   "outputs": [],
   "source": [
    "df = df.sample(30000)"
   ]
  },
  {
   "cell_type": "code",
   "execution_count": 46,
   "id": "a354e1be-5c6c-4e6f-93a2-0d2c36a74ffa",
   "metadata": {},
   "outputs": [
    {
     "data": {
      "text/plain": [
       "id              0\n",
       "qid1            0\n",
       "qid2            0\n",
       "question1       0\n",
       "question2       0\n",
       "is_duplicate    0\n",
       "dtype: int64"
      ]
     },
     "execution_count": 46,
     "metadata": {},
     "output_type": "execute_result"
    }
   ],
   "source": [
    "df.isnull().sum()"
   ]
  },
  {
   "cell_type": "code",
   "execution_count": 47,
   "id": "d38b09d2-e422-4ce1-aab0-b4183cc09a03",
   "metadata": {},
   "outputs": [
    {
     "data": {
      "text/plain": [
       "np.int64(0)"
      ]
     },
     "execution_count": 47,
     "metadata": {},
     "output_type": "execute_result"
    }
   ],
   "source": [
    "df.duplicated().sum()"
   ]
  },
  {
   "cell_type": "code",
   "execution_count": 48,
   "id": "ab26e82f-b253-4c0e-8195-c77a444cd75c",
   "metadata": {},
   "outputs": [
    {
     "data": {
      "text/html": [
       "<div>\n",
       "<style scoped>\n",
       "    .dataframe tbody tr th:only-of-type {\n",
       "        vertical-align: middle;\n",
       "    }\n",
       "\n",
       "    .dataframe tbody tr th {\n",
       "        vertical-align: top;\n",
       "    }\n",
       "\n",
       "    .dataframe thead th {\n",
       "        text-align: right;\n",
       "    }\n",
       "</style>\n",
       "<table border=\"1\" class=\"dataframe\">\n",
       "  <thead>\n",
       "    <tr style=\"text-align: right;\">\n",
       "      <th></th>\n",
       "      <th>question1</th>\n",
       "      <th>question2</th>\n",
       "    </tr>\n",
       "  </thead>\n",
       "  <tbody>\n",
       "    <tr>\n",
       "      <th>290313</th>\n",
       "      <td>What is a good book to understand human behavior?</td>\n",
       "      <td>What is the best book to learn about human beh...</td>\n",
       "    </tr>\n",
       "    <tr>\n",
       "      <th>360025</th>\n",
       "      <td>What causes black spots on skin?</td>\n",
       "      <td>What are black spots on skin called?</td>\n",
       "    </tr>\n",
       "    <tr>\n",
       "      <th>289046</th>\n",
       "      <td>Why am I alive?</td>\n",
       "      <td>Why should I stay alive?</td>\n",
       "    </tr>\n",
       "    <tr>\n",
       "      <th>153595</th>\n",
       "      <td>What type of car do you currently drive?</td>\n",
       "      <td>What type of car do you drive and what does th...</td>\n",
       "    </tr>\n",
       "    <tr>\n",
       "      <th>252503</th>\n",
       "      <td>How do I have my first sex with my wife?</td>\n",
       "      <td>How should I get sex with my wife?</td>\n",
       "    </tr>\n",
       "  </tbody>\n",
       "</table>\n",
       "</div>"
      ],
      "text/plain": [
       "                                                question1  \\\n",
       "290313  What is a good book to understand human behavior?   \n",
       "360025                   What causes black spots on skin?   \n",
       "289046                                    Why am I alive?   \n",
       "153595           What type of car do you currently drive?   \n",
       "252503           How do I have my first sex with my wife?   \n",
       "\n",
       "                                                question2  \n",
       "290313  What is the best book to learn about human beh...  \n",
       "360025               What are black spots on skin called?  \n",
       "289046                           Why should I stay alive?  \n",
       "153595  What type of car do you drive and what does th...  \n",
       "252503                 How should I get sex with my wife?  "
      ]
     },
     "execution_count": 48,
     "metadata": {},
     "output_type": "execute_result"
    }
   ],
   "source": [
    "qdf = df[['question1', 'question2']]\n",
    "qdf.head(5)"
   ]
  },
  {
   "cell_type": "code",
   "execution_count": 49,
   "id": "2bf84c79-fde0-4b19-9b5f-6b91ad09e947",
   "metadata": {},
   "outputs": [
    {
     "name": "stdout",
     "output_type": "stream",
     "text": [
      "3\n",
      "2\n",
      "1\n",
      "30000\n"
     ]
    }
   ],
   "source": [
    "questions = list(qdf['question1']) + list(qdf['question2'])\n",
    "questions = [q if not pd.isna(q) else '' for q in questions]\n",
    "print('3')\n",
    "cv = CountVectorizer(max_features=3000)\n",
    "print('2')\n",
    "q1_arr, q2_arr = np.vsplit(cv.fit_transform(questions).toarray(), 2)\n",
    "print(1)\n",
    "print(len(q1_arr))"
   ]
  },
  {
   "cell_type": "code",
   "execution_count": 52,
   "id": "96c8cbbc-0e96-4dea-9b27-e8213a17a98e",
   "metadata": {},
   "outputs": [
    {
     "data": {
      "text/plain": [
       "(30000, 6000)"
      ]
     },
     "execution_count": 52,
     "metadata": {},
     "output_type": "execute_result"
    }
   ],
   "source": [
    "temp_df1 = pd.DataFrame(q1_arr, index=qdf.index)\n",
    "temp_df2 = pd.DataFrame(q2_arr, index=qdf.index)\n",
    "temp_df = pd.concat([temp_df1, temp_df2], axis=1)\n",
    "temp_df.shape"
   ]
  },
  {
   "cell_type": "code",
   "execution_count": 54,
   "id": "dc56cb39-b850-418a-928b-ec478c969f69",
   "metadata": {},
   "outputs": [],
   "source": [
    "temp_df['is_duplicate'] = df['is_duplicate']"
   ]
  },
  {
   "cell_type": "code",
   "execution_count": 58,
   "id": "1e6e3730-4f08-40d3-a1a7-fb07b21dab13",
   "metadata": {},
   "outputs": [
    {
     "data": {
      "text/plain": [
       "(30000, 6001)"
      ]
     },
     "execution_count": 58,
     "metadata": {},
     "output_type": "execute_result"
    }
   ],
   "source": [
    "temp_df.shape"
   ]
  },
  {
   "cell_type": "code",
   "execution_count": 60,
   "id": "d2cbdcbf-8073-43fc-bff8-0bdb8d84fca4",
   "metadata": {},
   "outputs": [],
   "source": [
    "X_train, X_test, Y_train, Y_test = train_test_split(temp_df.iloc[:, 0:-1].values, temp_df.iloc[:, -1].values, test_size=0.2, random_state=2)"
   ]
  },
  {
   "cell_type": "code",
   "execution_count": 65,
   "id": "a43a7ba3-67e4-453b-add5-8c061df91622",
   "metadata": {},
   "outputs": [
    {
     "name": "stdout",
     "output_type": "stream",
     "text": [
      "please wait...\n",
      "complete\n"
     ]
    }
   ],
   "source": [
    "rfc = RandomForestClassifier()\n",
    "print('please wait...')\n",
    "rfc.fit(X_train, Y_train)\n",
    "print('complete')"
   ]
  },
  {
   "cell_type": "code",
   "execution_count": 66,
   "id": "8e73ea70-ce15-4ff6-b873-d2a0824cd7f8",
   "metadata": {},
   "outputs": [
    {
     "data": {
      "text/plain": [
       "0.7373333333333333"
      ]
     },
     "execution_count": 66,
     "metadata": {},
     "output_type": "execute_result"
    }
   ],
   "source": [
    "Y_pred = rfc.predict(X_test)\n",
    "accuracy_score(Y_test, Y_pred)"
   ]
  }
 ],
 "metadata": {
  "kernelspec": {
   "display_name": "Python 3 (ipykernel)",
   "language": "python",
   "name": "python3"
  },
  "language_info": {
   "codemirror_mode": {
    "name": "ipython",
    "version": 3
   },
   "file_extension": ".py",
   "mimetype": "text/x-python",
   "name": "python",
   "nbconvert_exporter": "python",
   "pygments_lexer": "ipython3",
   "version": "3.12.4"
  }
 },
 "nbformat": 4,
 "nbformat_minor": 5
}
